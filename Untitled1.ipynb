{
 "cells": [
  {
   "cell_type": "code",
   "execution_count": 34,
   "id": "497e3945-e9e4-4a0b-a961-ef866d9fb4f5",
   "metadata": {},
   "outputs": [
    {
     "data": {
      "text/plain": [
       "[139,\n",
       " 140,\n",
       " 110,\n",
       " 100,\n",
       " 100,\n",
       " 60,\n",
       " 100,\n",
       " 80,\n",
       " 162,\n",
       " 216,\n",
       " 180,\n",
       " 140,\n",
       " 80,\n",
       " 60,\n",
       " 40,\n",
       " 40,\n",
       " 60,\n",
       " 80,\n",
       " 120]"
      ]
     },
     "execution_count": 34,
     "metadata": {},
     "output_type": "execute_result"
    }
   ],
   "source": [
    "import pandas as pd\n",
    "df_product = pd.read_csv('./data/result_product.csv', encoding='utf-8')\n",
    "df_product.drop(columns='idx')\n",
    "df_product['category'].unique()\n",
    "\n",
    "temp = []\n",
    "for i in range(len(df_product['category'].unique())):\n",
    "    temp.append(len(df_product[df_product['category']==df_product['category'].unique()[i]]))\n",
    "temp\n",
    "\n",
    "# df_product\n",
    "\n",
    "\n",
    "           "
   ]
  },
  {
   "cell_type": "code",
   "execution_count": null,
   "id": "e49d9707-b0f5-4b8b-9f13-932efb461f0a",
   "metadata": {},
   "outputs": [],
   "source": []
  }
 ],
 "metadata": {
  "kernelspec": {
   "display_name": "Python 3 (ipykernel)",
   "language": "python",
   "name": "python3"
  },
  "language_info": {
   "codemirror_mode": {
    "name": "ipython",
    "version": 3
   },
   "file_extension": ".py",
   "mimetype": "text/x-python",
   "name": "python",
   "nbconvert_exporter": "python",
   "pygments_lexer": "ipython3",
   "version": "3.11.7"
  }
 },
 "nbformat": 4,
 "nbformat_minor": 5
}
