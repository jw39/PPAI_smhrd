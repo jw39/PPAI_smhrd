{
 "cells": [
  {
   "cell_type": "code",
   "execution_count": null,
   "id": "6becd921-e8d2-4d96-b862-e2d903f7838d",
   "metadata": {
    "scrolled": true
   },
   "outputs": [],
   "source": [
    "# 감성분석 위한 라이브러리 vader, textblob 설치\n",
    "# pip install vaderSentiment textblob"
   ]
  },
  {
   "cell_type": "code",
   "execution_count": null,
   "id": "d19677a3-f7db-4e3b-8779-2ce177d93c94",
   "metadata": {
    "scrolled": true
   },
   "outputs": [],
   "source": [
    "import numpy as np\n",
    "import pandas as pd\n",
    "# 유저 파일 읽어오기\n",
    "df_review = pd.read_csv('./data/result_review.csv', encoding='utf-8')\n",
    "# df_review = df_review.drop(columns = ['review_idx', 'cos_name', 'user_nm', 'rating', 'review'])\n",
    "# df_user = df_user.set_index('user_nm')\n",
    "df_review"
   ]
  },
  {
   "cell_type": "code",
   "execution_count": null,
   "id": "eb576d1c-b279-44fa-88d0-e421e8864cb1",
   "metadata": {},
   "outputs": [],
   "source": [
    "text_train = df_review[\"review\"]"
   ]
  },
  {
   "cell_type": "code",
   "execution_count": null,
   "id": "c95a2351-9ab2-42f1-95fa-cbe8336a4a40",
   "metadata": {},
   "outputs": [],
   "source": [
    "text_train"
   ]
  },
  {
   "cell_type": "code",
   "execution_count": null,
   "id": "7cb0a151-dfc6-4836-b308-770e937f7cc5",
   "metadata": {},
   "outputs": [],
   "source": [
    "tmp = [doc.split(' ') for doc in text_train]"
   ]
  },
  {
   "cell_type": "code",
   "execution_count": null,
   "id": "628058aa-96ee-46c1-881f-3fd83180c002",
   "metadata": {},
   "outputs": [],
   "source": [
    "token_list = []\n",
    "for s in tmp :\n",
    "    token_list += s"
   ]
  },
  {
   "cell_type": "code",
   "execution_count": null,
   "id": "e5509ab1-a302-4d71-946e-3976b4c6fa8f",
   "metadata": {},
   "outputs": [],
   "source": [
    "from collections import Counter # 빈도수 세어주는 도구\n",
    "counter = Counter(token_list)"
   ]
  },
  {
   "cell_type": "code",
   "execution_count": null,
   "id": "9b26dd6d-32af-478d-bc65-bd8de172d605",
   "metadata": {
    "scrolled": true
   },
   "outputs": [],
   "source": [
    "counter.most_common(40)"
   ]
  },
  {
   "cell_type": "code",
   "execution_count": null,
   "id": "9ef25259-c8d5-40e1-bf24-58fcf56550db",
   "metadata": {},
   "outputs": [],
   "source": [
    "# df_review = df_review.dropna(subset=['review'])"
   ]
  },
  {
   "cell_type": "code",
   "execution_count": null,
   "id": "7d6013e6-f939-4a4f-924a-a2e46bb386f3",
   "metadata": {},
   "outputs": [],
   "source": [
    "# 원본 데이터를 저장\n",
    "df_review.to_csv('./data/original_reviews.csv', index=False, encoding='utf-8-sig')"
   ]
  },
  {
   "cell_type": "code",
   "execution_count": null,
   "id": "20ba91a7-7b8a-429a-b521-f54950f7d3c5",
   "metadata": {},
   "outputs": [],
   "source": [
    "# 결측치를 제거한 데이터 저장\n",
    "df_dropna_review = df_review.dropna(subset=['review'])\n",
    "df_dropna_review.to_csv('./data/dropna_review.csv', index=False, encoding='utf-8-sig')"
   ]
  },
  {
   "cell_type": "code",
   "execution_count": null,
   "id": "67df8181-4c50-4d20-95ac-9356b2f3afca",
   "metadata": {},
   "outputs": [],
   "source": [
    "# 결측치가 제거된 데이터 확인\n",
    "print(df_dropna_review.head(10))"
   ]
  },
  {
   "cell_type": "code",
   "execution_count": null,
   "id": "6da8c881-0493-40c9-84fd-ee0019a4209c",
   "metadata": {},
   "outputs": [],
   "source": [
    "# 결측치 처리된 거 한 번 찍어봄\n",
    "print(df_dropna_review.info())"
   ]
  },
  {
   "cell_type": "code",
   "execution_count": null,
   "id": "af5dc97e-0632-4bce-aa59-4599158c125e",
   "metadata": {
    "scrolled": true
   },
   "outputs": [],
   "source": [
    "# 전처리하는 함수 하나 생성. 특수문자, 숫자, 다중 공백을 단일 공백으로 전혼, 한국어는 포함되도록 함\n",
    "def clean_text(text):\n",
    "    import re\n",
    "    text = text.lower()\n",
    "    # 특수 문자 및 숫자 제거\n",
    "    text = re.sub(r'[^\\w\\s가-힣]', '', text)  # 한글도 포함되도록 수정\n",
    "    # 다중 공백을 단일 공백으로 변환\n",
    "    text = re.sub(r'\\s+', ' ', text).strip()\n",
    "    return text\n",
    "\n",
    "# 전처리한 거를 sub_review 라는 컬럼에 추가 후 확인\n",
    "df_dropna_review['sub_review'] = df_dropna_review['review'].apply(clean_text)\n",
    "df_dropna_review['sub_review']"
   ]
  },
  {
   "cell_type": "code",
   "execution_count": null,
   "id": "b909ba3b-a513-4dbb-b822-bf5c3dd8c947",
   "metadata": {
    "scrolled": true
   },
   "outputs": [],
   "source": [
    "# 기존 리뷰와 전처리 후 리뷰 비교\n",
    "print(df_dropna_review[['review', 'sub_review']].head(10))"
   ]
  },
  {
   "cell_type": "code",
   "execution_count": null,
   "id": "58398686-b209-4218-afd9-4842e4a9004a",
   "metadata": {},
   "outputs": [],
   "source": [
    "# vrder 감정 분석기 사용 후 감정 점수 열 추가\n",
    "from vaderSentiment.vaderSentiment import SentimentIntensityAnalyzer\n",
    "\n",
    "# VADER 감정 분석기 초기화\n",
    "analyzer = SentimentIntensityAnalyzer()\n",
    "\n",
    "# 텍스트의 감정 점수를 계산하는 함수 정의\n",
    "def get_sentiment_vader(text):\n",
    "    # 텍스트의 감정 점수를 계산합니다.\n",
    "    score = analyzer.polarity_scores(text)\n",
    "    # 종합 감정 점수(compound)만 반환합니다.\n",
    "    return score['compound']\n",
    "\n",
    "# 데이터프레임의 'sub_review' 열에 대해 감정 점수 계산 후 새로운 'sentiment_score' 열 추가\n",
    "df_dropna_review['sentiment_score'] = df_dropna_review['sub_review'].apply(get_sentiment_vader)\n"
   ]
  },
  {
   "cell_type": "code",
   "execution_count": null,
   "id": "16f81274-cdb9-4e0d-9395-13252b47d953",
   "metadata": {
    "scrolled": true
   },
   "outputs": [],
   "source": [
    "# 결과 확인해보니 다 0.0 나옴 ;\n",
    "# 'review', 'sub_review', 'sentiment_score' 열을 포함하여 데이터프레임의 처음 몇 행을 출력\n",
    "print(df_dropna_review[['review', 'sub_review', 'sentiment_score']].head())"
   ]
  },
  {
   "cell_type": "code",
   "execution_count": null,
   "id": "e026927d-bd49-4358-a2e4-7b57ee636443",
   "metadata": {},
   "outputs": [],
   "source": [
    "# 한국어라 안 되는 것 같아서 영어로 시도,, 개잘나오는 걸 확인할 수 있음\n",
    "test_texts = [\n",
    "    \"I love this product! It's amazing.\",\n",
    "    \"I hate this. It's the worst experience I've ever had.\",\n",
    "    \"It's okay, neither great nor terrible.\"\n",
    "]\n",
    "\n",
    "for text in test_texts:\n",
    "    print(f\"Text: {text}\")\n",
    "    print(f\"Sentiment Score: {get_sentiment_vader(text)}\")\n"
   ]
  },
  {
   "cell_type": "code",
   "execution_count": null,
   "id": "0dd20275-c04d-4313-bb8a-d61a5013f1f6",
   "metadata": {},
   "outputs": [],
   "source": [
    "# KoBERT를 사용한 한국어 감정 분석\n",
    "# !pip install transformers torch"
   ]
  },
  {
   "cell_type": "code",
   "execution_count": null,
   "id": "b5c069cc-cd5c-4bc3-a2a4-6bdc69167f52",
   "metadata": {},
   "outputs": [],
   "source": [
    "# print(torch.__version__)"
   ]
  },
  {
   "cell_type": "code",
   "execution_count": null,
   "id": "a4f28781-62d5-47e3-8f2b-20fc3f2cfbb0",
   "metadata": {},
   "outputs": [],
   "source": []
  },
  {
   "cell_type": "code",
   "execution_count": null,
   "id": "8a7b1bbb-b9e3-4e78-a6f3-9c207dc3a77d",
   "metadata": {},
   "outputs": [],
   "source": []
  },
  {
   "cell_type": "code",
   "execution_count": null,
   "id": "5dba9423-e691-4e62-923f-e0053119a9d5",
   "metadata": {},
   "outputs": [],
   "source": []
  },
  {
   "cell_type": "code",
   "execution_count": null,
   "id": "d376583b-61a4-4f22-a8d7-dcd9f09d4b01",
   "metadata": {},
   "outputs": [],
   "source": []
  },
  {
   "cell_type": "code",
   "execution_count": null,
   "id": "38133e61-193a-4cce-bade-8f64d042472b",
   "metadata": {},
   "outputs": [],
   "source": []
  },
  {
   "cell_type": "code",
   "execution_count": null,
   "id": "c1c8f836-1877-490e-ac30-a324b709852b",
   "metadata": {},
   "outputs": [],
   "source": []
  },
  {
   "cell_type": "code",
   "execution_count": null,
   "id": "2b7ebaf5-9348-464a-9692-e57c4ed3ec43",
   "metadata": {},
   "outputs": [],
   "source": []
  },
  {
   "cell_type": "code",
   "execution_count": null,
   "id": "532a9b3a-a714-460d-b633-d836adea6de8",
   "metadata": {},
   "outputs": [],
   "source": []
  },
  {
   "cell_type": "code",
   "execution_count": null,
   "id": "301fedfb-9447-4462-8083-eac321b55d23",
   "metadata": {},
   "outputs": [],
   "source": []
  },
  {
   "cell_type": "code",
   "execution_count": null,
   "id": "3a485c24-171e-4193-9525-73264a6fdb4f",
   "metadata": {},
   "outputs": [],
   "source": []
  },
  {
   "cell_type": "code",
   "execution_count": null,
   "id": "39688789-c170-43ae-992d-b459df9ad5bb",
   "metadata": {},
   "outputs": [],
   "source": []
  },
  {
   "cell_type": "code",
   "execution_count": null,
   "id": "50527fae-c330-4275-86ce-a6973b1c2246",
   "metadata": {},
   "outputs": [],
   "source": []
  },
  {
   "cell_type": "code",
   "execution_count": null,
   "id": "9410be9c-4960-468f-8bf6-3b7d132898a8",
   "metadata": {},
   "outputs": [],
   "source": []
  },
  {
   "cell_type": "code",
   "execution_count": null,
   "id": "5e99e9eb-a7b3-4fb2-9816-fc8bb45dfde5",
   "metadata": {},
   "outputs": [],
   "source": []
  },
  {
   "cell_type": "code",
   "execution_count": null,
   "id": "837f867b-d393-4c4f-9b6a-9d4da90d78f5",
   "metadata": {},
   "outputs": [],
   "source": []
  },
  {
   "cell_type": "code",
   "execution_count": null,
   "id": "a682a3ae-4aa1-4c5c-b99b-e1ee82dae9b1",
   "metadata": {},
   "outputs": [],
   "source": []
  },
  {
   "cell_type": "code",
   "execution_count": null,
   "id": "dc3d38a9-6efe-4679-93ed-aee8deaf32c0",
   "metadata": {},
   "outputs": [],
   "source": []
  },
  {
   "cell_type": "code",
   "execution_count": null,
   "id": "5d1a922c-ed7b-4336-b4c0-babad15fd6f8",
   "metadata": {},
   "outputs": [],
   "source": []
  },
  {
   "cell_type": "code",
   "execution_count": null,
   "id": "5c1e45ba-08f5-4840-a268-578e1c2782e7",
   "metadata": {},
   "outputs": [],
   "source": []
  },
  {
   "cell_type": "code",
   "execution_count": null,
   "id": "2520cbc9-ae9f-40b0-b645-0a31a12acc83",
   "metadata": {},
   "outputs": [],
   "source": []
  },
  {
   "cell_type": "code",
   "execution_count": null,
   "id": "634cb6c0-c64d-4936-9671-5ac7a81cb2cf",
   "metadata": {},
   "outputs": [],
   "source": []
  },
  {
   "cell_type": "code",
   "execution_count": null,
   "id": "5b8e1bf2-c9d3-4db0-a0d9-1ced05a9a08e",
   "metadata": {},
   "outputs": [],
   "source": []
  },
  {
   "cell_type": "code",
   "execution_count": null,
   "id": "50294234-bf2e-41a2-a600-fd1aa8511bef",
   "metadata": {},
   "outputs": [],
   "source": []
  },
  {
   "cell_type": "code",
   "execution_count": null,
   "id": "24a7db27-b953-466b-aad8-b52025e96d95",
   "metadata": {},
   "outputs": [],
   "source": []
  },
  {
   "cell_type": "code",
   "execution_count": null,
   "id": "4781f872-63ee-4788-82a0-830d46564760",
   "metadata": {},
   "outputs": [],
   "source": []
  },
  {
   "cell_type": "code",
   "execution_count": null,
   "id": "81f34abf-9464-4f42-bc80-ddb65ed13587",
   "metadata": {},
   "outputs": [],
   "source": []
  },
  {
   "cell_type": "code",
   "execution_count": null,
   "id": "f24c1f9f-377f-428b-bc50-b9dce5d8951f",
   "metadata": {},
   "outputs": [],
   "source": []
  },
  {
   "cell_type": "code",
   "execution_count": null,
   "id": "04c36e40-69e4-4f20-aa85-28f2a7febe7a",
   "metadata": {},
   "outputs": [],
   "source": []
  },
  {
   "cell_type": "code",
   "execution_count": null,
   "id": "18129537-bcbb-4578-8a2f-d96a4283c153",
   "metadata": {},
   "outputs": [],
   "source": []
  },
  {
   "cell_type": "code",
   "execution_count": null,
   "id": "883a9434-544e-4755-bbf8-f6c1f4f8465f",
   "metadata": {},
   "outputs": [],
   "source": []
  },
  {
   "cell_type": "code",
   "execution_count": null,
   "id": "92f9fba4-484b-4f0f-8ae1-484fe094f47b",
   "metadata": {},
   "outputs": [],
   "source": []
  },
  {
   "cell_type": "code",
   "execution_count": null,
   "id": "4a08d58f-005e-48b5-b95b-49a5f0279408",
   "metadata": {},
   "outputs": [],
   "source": []
  },
  {
   "cell_type": "code",
   "execution_count": null,
   "id": "b2a3cfc5-6d4c-45ec-97f4-3e325c81da26",
   "metadata": {},
   "outputs": [],
   "source": []
  },
  {
   "cell_type": "code",
   "execution_count": null,
   "id": "6c005df6-5ccd-4532-b88a-9b917a75faed",
   "metadata": {},
   "outputs": [],
   "source": []
  },
  {
   "cell_type": "code",
   "execution_count": null,
   "id": "d8eacbed-e7b2-4282-80b7-4bbfc3d161e7",
   "metadata": {},
   "outputs": [],
   "source": []
  }
 ],
 "metadata": {
  "kernelspec": {
   "display_name": "Python 3 (ipykernel)",
   "language": "python",
   "name": "python3"
  },
  "language_info": {
   "codemirror_mode": {
    "name": "ipython",
    "version": 3
   },
   "file_extension": ".py",
   "mimetype": "text/x-python",
   "name": "python",
   "nbconvert_exporter": "python",
   "pygments_lexer": "ipython3",
   "version": "3.11.7"
  }
 },
 "nbformat": 4,
 "nbformat_minor": 5
}
